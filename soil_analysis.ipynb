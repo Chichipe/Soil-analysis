{
 "cells": [
  {
   "metadata": {},
   "cell_type": "markdown",
   "source": "# Soil project in Yurimaguas, Loreto, Perú",
   "id": "d79691520ad750a3"
  },
  {
   "cell_type": "code",
   "id": "initial_id",
   "metadata": {
    "collapsed": true,
    "ExecuteTime": {
     "end_time": "2025-10-31T18:45:23.403811Z",
     "start_time": "2025-10-31T18:45:04.394075Z"
    }
   },
   "source": [
    "import openpyxl as px\n",
    "\n",
    "soil_data = px.load_workbook(\"D:/TRABAJOS CHECA/2024/PRESENTACION ANALISIS DE SUELOS/RESULTADOS_FINAL_355.xlsx\", data_only=True)\n",
    "number_sheets = list(soil_data.sheetnames)\n",
    "print(len(number_sheets)) # en total hay 351 hojas de excel"
   ],
   "outputs": [
    {
     "name": "stdout",
     "output_type": "stream",
     "text": [
      "351\n"
     ]
    }
   ],
   "execution_count": 2
  },
  {
   "metadata": {},
   "cell_type": "markdown",
   "source": "### Correct the names of the farmers",
   "id": "c81d7f5b930eeeae"
  },
  {
   "metadata": {
    "ExecuteTime": {
     "end_time": "2025-10-31T18:46:03.276913Z",
     "start_time": "2025-10-31T18:46:03.259238Z"
    }
   },
   "cell_type": "code",
   "source": [
    "names_farmers = []\n",
    "for sheet in range(0, len(number_sheets)):\n",
    "    name_farmer = soil_data.worksheets[sheet].title.split(\" (\")[0]\n",
    "    names_farmers.append(name_farmer)\n",
    "\n",
    "print(len(names_farmers))"
   ],
   "id": "564363f219d0c504",
   "outputs": [
    {
     "name": "stdout",
     "output_type": "stream",
     "text": [
      "351\n"
     ]
    }
   ],
   "execution_count": 3
  },
  {
   "metadata": {},
   "cell_type": "markdown",
   "source": "### extracting soil analysis data from excel spreadsheets",
   "id": "870db1c678170c49"
  },
  {
   "metadata": {
    "ExecuteTime": {
     "end_time": "2025-10-31T18:46:06.177344Z",
     "start_time": "2025-10-31T18:46:06.147878Z"
    }
   },
   "cell_type": "code",
   "source": [
    "data_soil_analysis = []\n",
    "data_by_farmer = []\n",
    "data_length = 0\n",
    "while data_length < len(number_sheets):\n",
    "    sheet_name = soil_data.worksheets[data_length]\n",
    "    data_analysis = list(sheet_name[\"B14:V14\"])\n",
    "    for k in data_analysis:\n",
    "        for j in k:\n",
    "            data_by_farmer.append(j.value)\n",
    "    data_by_farmer = [element for element in data_by_farmer if element is not None]\n",
    "    data_by_farmer.insert(0, names_farmers[data_length])\n",
    "    data_by_farmer.insert(0, data_length + 1)\n",
    "    data_soil_analysis.append(data_by_farmer)\n",
    "    data_length += 1\n",
    "    data_by_farmer = []\n",
    "\n",
    "print(len(data_soil_analysis))\n"
   ],
   "id": "622562ccbdca7f7b",
   "outputs": [
    {
     "name": "stdout",
     "output_type": "stream",
     "text": [
      "351\n"
     ]
    }
   ],
   "execution_count": 4
  },
  {
   "metadata": {
    "ExecuteTime": {
     "end_time": "2025-10-31T19:08:25.068787Z",
     "start_time": "2025-10-31T19:08:24.892496Z"
    }
   },
   "cell_type": "code",
   "source": [
    "machote_data = px.Workbook()\n",
    "machote_active_data = machote_data.active\n",
    "machote_active_data.title = \"Soil analysis\"\n",
    "\n",
    "names_col = [\"ID\",\"Farmer\",\"% Sand\", \"% Clay\", \"% Silt\", \"Textural class\", \"pH\", \"C.E. µS/cm\", \"M.O. %\", \"N %\", \"P ppm\", \"K ppm\", \"CIC\", \"Ca+2\", \"Mg+2\",\n",
    "             \"K+\", \"Na+\", \"Al+3\", \"Al+3 + H+1\", \"% Sat.Bas.\", \"% Aci. Inter.\"]\n",
    "col = [\"A\", \"B\", \"C\", \"D\", \"E\", \"F\", \"G\", \"H\", \"I\", \"J\", \"K\", \"L\", \"M\", \"N\", \"O\", \"P\", \"Q\", \"R\", \"S\", \"T\", \"U\"] # 0 - 21\n",
    "values_cell_row = []\n",
    "counter = 0\n",
    "value_row = 0\n",
    "\n",
    "list_values = []\n",
    "for i in range(1, len(data_soil_analysis)+1):\n",
    "    for j in range(0, len(col)):\n",
    "        list_values.append(col[j] + str(i))\n",
    "    values_cell_row.append(list_values)\n",
    "    list_values = []\n",
    "\n",
    "#print(len(values_cell_row))\n",
    "\n",
    "while counter < 21:\n",
    "    machote_active_data[values_cell_row[value_row][counter]] = names_col[counter]\n",
    "    counter += 1\n",
    "\n",
    "data_probar = data_soil_analysis[0:5]\n",
    "\n",
    "for i in range(1, len(data_soil_analysis)):\n",
    "    #print(values_cell_row[i])\n",
    "    for j in range(0, len(col)):\n",
    "        #print(values_cell_row[i][j])\n",
    "        machote_active_data[values_cell_row[i][j]] = data_soil_analysis[i-1][j]\n",
    "\n",
    "machote_data.save(\"ejemplo_suelo_checa.xlsx\")\n",
    "\n"
   ],
   "id": "ba19befcf8ad4b85",
   "outputs": [],
   "execution_count": 20
  }
 ],
 "metadata": {
  "kernelspec": {
   "display_name": "Python 3",
   "language": "python",
   "name": "python3"
  },
  "language_info": {
   "codemirror_mode": {
    "name": "ipython",
    "version": 2
   },
   "file_extension": ".py",
   "mimetype": "text/x-python",
   "name": "python",
   "nbconvert_exporter": "python",
   "pygments_lexer": "ipython2",
   "version": "2.7.6"
  }
 },
 "nbformat": 4,
 "nbformat_minor": 5
}
